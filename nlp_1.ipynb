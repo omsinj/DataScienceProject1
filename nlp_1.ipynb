{
 "cells": [
  {
   "cell_type": "markdown",
   "id": "a01afdea",
   "metadata": {},
   "source": [
    "Task 1\n",
    "\n",
    "Categorise each of the following use cases using NLP\n",
    "\n",
    "A model that allocates which email folder an email should be sent (work, friends, promotions, important), like Gmails's ibbix tabs. \n",
    "\n",
    "A model that helps decide wat grade to award to an essay question. This can be used by a university professor who grades a lot of classes or essay competitions. \n",
    "\n",
    "A model that provides assistive technology for doctors to provide their diagnosis. Remeber, doctors ask questions, so the model will use the patient's answers to provide probable diagnoses for the doctor to weigh and make decisions on. \n",
    "\n"
   ]
  },
  {
   "cell_type": "markdown",
   "id": "b8b52203",
   "metadata": {},
   "source": [
    "Natural language processing applications\n",
    "\n",
    "Language translation\n",
    "Text Classification\n",
    "Automatic Summarisation\n",
    "Sentiment analysis\n",
    "Question Answering"
   ]
  },
  {
   "cell_type": "markdown",
   "id": "c7cd998a",
   "metadata": {},
   "source": [
    "Email Folder Allocation Model:\n",
    "\n",
    "NLP Task: Text Classification\n",
    "Explanation: This model involves categorizing emails into different folders (work, friends, promotions, important) based on the content of the email. NLP can be used for text classification to analyze the text of the email and predict the appropriate category or folder. Techniques like machine learning, particularly classification algorithms, can be applied to achieve this task.\n",
    "\n"
   ]
  },
  {
   "cell_type": "code",
   "execution_count": 1,
   "id": "8e39414b",
   "metadata": {},
   "outputs": [
    {
     "name": "stdout",
     "output_type": "stream",
     "text": [
      "Predicted Labels: ['important']\n",
      "Accuracy: 0.0\n"
     ]
    }
   ],
   "source": [
    "from sklearn.feature_extraction.text import CountVectorizer\n",
    "from sklearn.naive_bayes import MultinomialNB\n",
    "from sklearn.model_selection import train_test_split\n",
    "from sklearn.metrics import accuracy_score\n",
    "from sklearn.preprocessing import LabelEncoder\n",
    "\n",
    "# Sample data\n",
    "emails = [\"Work: Meeting at 2 PM\", \"Friends: Let's catch up this weekend!\", \"Promotions: Special offers inside!\", \"Important: Urgent update\"]\n",
    "\n",
    "labels = [\"work\", \"friends\", \"promotions\", \"important\"]\n",
    "\n",
    "# Encode labels\n",
    "label_encoder = LabelEncoder()\n",
    "encoded_labels = label_encoder.fit_transform(labels)\n",
    "\n",
    "# Vectorize the text\n",
    "vectorizer = CountVectorizer()\n",
    "X = vectorizer.fit_transform(emails)\n",
    "\n",
    "# Split the data\n",
    "X_train, X_test, y_train, y_test = train_test_split(X, encoded_labels, test_size=0.2, random_state=42)\n",
    "\n",
    "# Train a Naive Bayes classifier\n",
    "classifier = MultinomialNB()\n",
    "classifier.fit(X_train, y_train)\n",
    "\n",
    "# Make predictions\n",
    "predictions = classifier.predict(X_test)\n",
    "\n",
    "# Decode predictions\n",
    "decoded_predictions = label_encoder.inverse_transform(predictions)\n",
    "\n",
    "# Evaluate accuracy\n",
    "accuracy = accuracy_score(y_test, predictions)\n",
    "\n",
    "print(\"Predicted Labels:\", decoded_predictions)\n",
    "print(\"Accuracy:\", accuracy)\n"
   ]
  },
  {
   "cell_type": "markdown",
   "id": "6f8a229d",
   "metadata": {},
   "source": [
    "Explanation: his code demonstrates a basic email folder allocation model using a Naive Bayes classifier for text classification.\n",
    "It uses the CountVectorizer to convert the text data into numerical features and the MultinomialNB classifier for training and prediction.\n",
    "The labels (work, friends, promotions, important) are encoded using LabelEncoder for model training.\n",
    "The accuracy of the model is evaluated using the accuracy_score from scikit-learn"
   ]
  },
  {
   "cell_type": "markdown",
   "id": "e33bb31d",
   "metadata": {},
   "source": [
    "Essay Grading Model:\n",
    "NLP Task: Text Evaluation or Scoring\n",
    "Explanation: This model aims to determine the grade for an essay question. NLP can be employed for text evaluation by analyzing the content of the essay, assessing its coherence, relevance, and other linguistic features. Machine learning models, such as regression or classification models, can be trained on annotated essay data to predict the appropriate grade.\n",
    "Assistive Technology for Medical Diagnosis:"
   ]
  },
  {
   "cell_type": "code",
   "execution_count": 2,
   "id": "732631c4",
   "metadata": {},
   "outputs": [
    {
     "name": "stdout",
     "output_type": "stream",
     "text": [
      "Predicted Grades: [80.]\n",
      "Mean Squared Error: 100.0\n"
     ]
    }
   ],
   "source": [
    "from sklearn.feature_extraction.text import TfidfVectorizer\n",
    "from sklearn.linear_model import LinearRegression\n",
    "from sklearn.model_selection import train_test_split\n",
    "from sklearn.metrics import mean_squared_error\n",
    "\n",
    "# Sample data\n",
    "essays = [\"Well-structured essay with clear arguments.\", \"Lacks coherence and supporting evidence.\", \"Exceptional analysis and critical thinking.\"]\n",
    "\n",
    "grades = [90, 65, 95]\n",
    "\n",
    "# Vectorize the text\n",
    "vectorizer = TfidfVectorizer()\n",
    "X = vectorizer.fit_transform(essays)\n",
    "\n",
    "# Split the data\n",
    "X_train, X_test, y_train, y_test = train_test_split(X, grades, test_size=0.2, random_state=42)\n",
    "\n",
    "# Train a Linear Regression model\n",
    "regressor = LinearRegression()\n",
    "regressor.fit(X_train, y_train)\n",
    "\n",
    "# Make predictions\n",
    "predictions = regressor.predict(X_test)\n",
    "\n",
    "# Evaluate mean squared error\n",
    "mse = mean_squared_error(y_test, predictions)\n",
    "\n",
    "print(\"Predicted Grades:\", predictions)\n",
    "print(\"Mean Squared Error:\", mse)\n"
   ]
  },
  {
   "cell_type": "markdown",
   "id": "cafd54f9",
   "metadata": {},
   "source": [
    "Explanation: This code implements a basic essay grading model using Linear Regression for text evaluation.\n",
    "It uses the TfidfVectorizer to convert the text data into numerical features and the LinearRegression model for training and prediction.\n",
    "The grades are treated as continuous values, and the model predicts a numeric score for each essay.\n",
    "The mean squared error is calculated as a measure of model performance."
   ]
  },
  {
   "cell_type": "markdown",
   "id": "4ddac5cb",
   "metadata": {},
   "source": [
    "NLP Task: Natural Language Understanding, Text-based Inference\n",
    "Explanation: In this case, the model assists doctors in providing diagnoses based on the patient's answers to questions. NLP plays a crucial role in understanding and interpreting the natural language responses of patients. It involves extracting relevant information from the patient's responses, understanding medical context, and possibly generating or suggesting probable diagnoses. Techniques like information extraction, semantic role labeling, and inference can be applied."
   ]
  },
  {
   "cell_type": "code",
   "execution_count": 5,
   "id": "52f0e441",
   "metadata": {},
   "outputs": [
    {
     "name": "stderr",
     "output_type": "stream",
     "text": [
      "[nltk_data] Downloading package averaged_perceptron_tagger to\n",
      "[nltk_data]     C:\\Users\\ojaga\\AppData\\Roaming\\nltk_data...\n",
      "[nltk_data]   Unzipping taggers\\averaged_perceptron_tagger.zip.\n"
     ]
    },
    {
     "name": "stdout",
     "output_type": "stream",
     "text": [
      "Predicted Diagnoses: ['Healthy']\n",
      "Accuracy: 0.0\n"
     ]
    }
   ],
   "source": [
    "import nltk\n",
    "\n",
    "# Download nlk resource\n",
    "nltk.download('averaged_perceptron_tagger')\n",
    "\n",
    "from sklearn.feature_extraction.text import TfidfVectorizer\n",
    "from sklearn.ensemble import RandomForestClassifier\n",
    "from sklearn.model_selection import train_test_split\n",
    "from sklearn.metrics import accuracy_score\n",
    "\n",
    "# Sample data\n",
    "patient_responses = [\"I have a persistent cough and shortness of breath.\", \"Experiencing chest pain and fatigue.\", \"No specific symptoms, feeling normal.\"]\n",
    "\n",
    "diagnoses = [\"Respiratory infection\", \"Possible heart condition\", \"Healthy\"]\n",
    "\n",
    "# Tokenize and apply POS tagging\n",
    "tokenized_responses = [nltk.word_tokenize(response) for response in patient_responses]\n",
    "pos_tagged_responses = [nltk.pos_tag(tokens) for tokens in tokenized_responses]\n",
    "\n",
    "# Flatten POS tagged responses\n",
    "flat_pos_tagged_responses = [\" \".join([tag[1] for tag in pos_tags]) for pos_tags in pos_tagged_responses]\n",
    "\n",
    "# Vectorize the text\n",
    "vectorizer = TfidfVectorizer()\n",
    "X = vectorizer.fit_transform(flat_pos_tagged_responses)\n",
    "\n",
    "# Encode labels\n",
    "label_encoder = LabelEncoder()\n",
    "encoded_diagnoses = label_encoder.fit_transform(diagnoses)\n",
    "\n",
    "# Split the data\n",
    "X_train, X_test, y_train, y_test = train_test_split(X, encoded_diagnoses, test_size=0.2, random_state=42)\n",
    "\n",
    "# Train a Random Forest classifier\n",
    "classifier = RandomForestClassifier()\n",
    "classifier.fit(X_train, y_train)\n",
    "\n",
    "# Make predictions\n",
    "predictions = classifier.predict(X_test)\n",
    "\n",
    "# Decode predictions\n",
    "decoded_predictions = label_encoder.inverse_transform(predictions)\n",
    "\n",
    "# Evaluate accuracy\n",
    "accuracy = accuracy_score(y_test, predictions)\n",
    "\n",
    "print(\"Predicted Diagnoses:\", decoded_predictions)\n",
    "print(\"Accuracy:\", accuracy)\n"
   ]
  },
  {
   "cell_type": "markdown",
   "id": "021d2123",
   "metadata": {},
   "source": [
    "Explanation:\n",
    "\n",
    "This code illustrates a basic model for medical diagnosis using a RandomForest classifier and natural language understanding.\n",
    "It uses NLTK for tokenization and part-of-speech (POS) tagging of patient responses.\n",
    "The responses are vectorized using the TfidfVectorizer and then fed into a RandomForest classifier.\n",
    "Diagnoses are encoded using LabelEncoder, and the accuracy of the model is evaluated."
   ]
  }
 ],
 "metadata": {
  "kernelspec": {
   "display_name": "Python 3 (ipykernel)",
   "language": "python",
   "name": "python3"
  },
  "language_info": {
   "codemirror_mode": {
    "name": "ipython",
    "version": 3
   },
   "file_extension": ".py",
   "mimetype": "text/x-python",
   "name": "python",
   "nbconvert_exporter": "python",
   "pygments_lexer": "ipython3",
   "version": "3.11.3"
  }
 },
 "nbformat": 4,
 "nbformat_minor": 5
}
