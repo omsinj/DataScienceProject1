{
 "cells": [
  {
   "cell_type": "code",
   "execution_count": 5,
   "id": "46724fef",
   "metadata": {},
   "outputs": [],
   "source": [
    "import pandas as pd\n",
    "import numpy as np\n",
    "import matplotlib.pyplot as plt"
   ]
  },
  {
   "cell_type": "code",
   "execution_count": 6,
   "id": "5705948f",
   "metadata": {},
   "outputs": [],
   "source": [
    "# Read in data \n",
    "df = pd.read_csv('countries.csv')"
   ]
  },
  {
   "cell_type": "code",
   "execution_count": 7,
   "id": "093ffeb2",
   "metadata": {},
   "outputs": [
    {
     "data": {
      "text/html": [
       "<div>\n",
       "<style scoped>\n",
       "    .dataframe tbody tr th:only-of-type {\n",
       "        vertical-align: middle;\n",
       "    }\n",
       "\n",
       "    .dataframe tbody tr th {\n",
       "        vertical-align: top;\n",
       "    }\n",
       "\n",
       "    .dataframe thead th {\n",
       "        text-align: right;\n",
       "    }\n",
       "</style>\n",
       "<table border=\"1\" class=\"dataframe\">\n",
       "  <thead>\n",
       "    <tr style=\"text-align: right;\">\n",
       "      <th></th>\n",
       "      <th>Country</th>\n",
       "      <th>Country Groups</th>\n",
       "      <th>BX.KLT.DINV.WD.GD.ZS</th>\n",
       "      <th>EG.ELC.ACCS.ZS</th>\n",
       "      <th>EG.FEC.RNEW.ZS</th>\n",
       "      <th>EN.ATM.CO2E.PC</th>\n",
       "      <th>FP.CPI.TOTL.ZG</th>\n",
       "      <th>IT.CEL.SETS.P2</th>\n",
       "      <th>IT.NET.USER.ZS</th>\n",
       "      <th>NE.EXP.GNFS.ZS</th>\n",
       "      <th>...</th>\n",
       "      <th>NY.GDP.PCAP.CD</th>\n",
       "      <th>SP.DYN.AMRT.FE</th>\n",
       "      <th>SP.DYN.AMRT.MA</th>\n",
       "      <th>SP.DYN.CBRT.IN</th>\n",
       "      <th>SP.DYN.CDRT.IN</th>\n",
       "      <th>SP.DYN.IMRT.IN</th>\n",
       "      <th>SP.DYN.LE00.IN</th>\n",
       "      <th>SP.DYN.TFRT.IN</th>\n",
       "      <th>SP.POP.GROW</th>\n",
       "      <th>SP.URB.TOTL.IN.ZS</th>\n",
       "    </tr>\n",
       "  </thead>\n",
       "  <tbody>\n",
       "    <tr>\n",
       "      <th>0</th>\n",
       "      <td>CEB</td>\n",
       "      <td>Central Europe and the Baltics</td>\n",
       "      <td>1.555790</td>\n",
       "      <td>100.000000</td>\n",
       "      <td>14.538355</td>\n",
       "      <td>6.820042</td>\n",
       "      <td>1.840965</td>\n",
       "      <td>122.192106</td>\n",
       "      <td>58.599297</td>\n",
       "      <td>52.333390</td>\n",
       "      <td>...</td>\n",
       "      <td>12567.128310</td>\n",
       "      <td>77.039930</td>\n",
       "      <td>189.578062</td>\n",
       "      <td>10.543330</td>\n",
       "      <td>11.429917</td>\n",
       "      <td>6.019183</td>\n",
       "      <td>75.295349</td>\n",
       "      <td>1.465325</td>\n",
       "      <td>-0.362710</td>\n",
       "      <td>62.059417</td>\n",
       "    </tr>\n",
       "    <tr>\n",
       "      <th>1</th>\n",
       "      <td>CSS</td>\n",
       "      <td>Caribbean small states</td>\n",
       "      <td>4.658176</td>\n",
       "      <td>93.114511</td>\n",
       "      <td>9.096342</td>\n",
       "      <td>9.277109</td>\n",
       "      <td>3.250344</td>\n",
       "      <td>113.628492</td>\n",
       "      <td>35.407690</td>\n",
       "      <td>44.935642</td>\n",
       "      <td>...</td>\n",
       "      <td>8726.326154</td>\n",
       "      <td>121.928584</td>\n",
       "      <td>200.568068</td>\n",
       "      <td>17.555646</td>\n",
       "      <td>7.436407</td>\n",
       "      <td>18.406085</td>\n",
       "      <td>72.252392</td>\n",
       "      <td>2.151960</td>\n",
       "      <td>0.642147</td>\n",
       "      <td>42.083135</td>\n",
       "    </tr>\n",
       "    <tr>\n",
       "      <th>2</th>\n",
       "      <td>EAP</td>\n",
       "      <td>East Asia &amp; Pacific (excluding high income)</td>\n",
       "      <td>3.796483</td>\n",
       "      <td>94.997330</td>\n",
       "      <td>16.471817</td>\n",
       "      <td>5.106045</td>\n",
       "      <td>3.789836</td>\n",
       "      <td>69.905604</td>\n",
       "      <td>28.957482</td>\n",
       "      <td>30.572597</td>\n",
       "      <td>...</td>\n",
       "      <td>4007.323783</td>\n",
       "      <td>91.717833</td>\n",
       "      <td>134.835195</td>\n",
       "      <td>14.439063</td>\n",
       "      <td>7.019396</td>\n",
       "      <td>19.100000</td>\n",
       "      <td>73.482345</td>\n",
       "      <td>1.843869</td>\n",
       "      <td>0.713160</td>\n",
       "      <td>47.696831</td>\n",
       "    </tr>\n",
       "    <tr>\n",
       "      <th>3</th>\n",
       "      <td>EAR</td>\n",
       "      <td>Early-demographic dividend</td>\n",
       "      <td>2.073571</td>\n",
       "      <td>79.455104</td>\n",
       "      <td>26.481427</td>\n",
       "      <td>2.119827</td>\n",
       "      <td>4.580200</td>\n",
       "      <td>68.069446</td>\n",
       "      <td>12.835425</td>\n",
       "      <td>27.711023</td>\n",
       "      <td>...</td>\n",
       "      <td>2926.483907</td>\n",
       "      <td>150.595639</td>\n",
       "      <td>214.978616</td>\n",
       "      <td>22.914627</td>\n",
       "      <td>7.028941</td>\n",
       "      <td>40.042149</td>\n",
       "      <td>67.955732</td>\n",
       "      <td>2.763140</td>\n",
       "      <td>1.534541</td>\n",
       "      <td>42.113134</td>\n",
       "    </tr>\n",
       "    <tr>\n",
       "      <th>4</th>\n",
       "      <td>EAS</td>\n",
       "      <td>East Asia &amp; Pacific</td>\n",
       "      <td>2.930966</td>\n",
       "      <td>95.496185</td>\n",
       "      <td>13.729447</td>\n",
       "      <td>5.701783</td>\n",
       "      <td>3.247588</td>\n",
       "      <td>73.657018</td>\n",
       "      <td>34.269800</td>\n",
       "      <td>32.153225</td>\n",
       "      <td>...</td>\n",
       "      <td>7674.475705</td>\n",
       "      <td>86.702958</td>\n",
       "      <td>130.465277</td>\n",
       "      <td>13.880915</td>\n",
       "      <td>7.095146</td>\n",
       "      <td>18.136433</td>\n",
       "      <td>74.383915</td>\n",
       "      <td>1.797065</td>\n",
       "      <td>0.675231</td>\n",
       "      <td>51.791229</td>\n",
       "    </tr>\n",
       "  </tbody>\n",
       "</table>\n",
       "<p>5 rows × 21 columns</p>\n",
       "</div>"
      ],
      "text/plain": [
       "  Country                               Country Groups  BX.KLT.DINV.WD.GD.ZS  \\\n",
       "0     CEB               Central Europe and the Baltics              1.555790   \n",
       "1     CSS                       Caribbean small states              4.658176   \n",
       "2     EAP  East Asia & Pacific (excluding high income)              3.796483   \n",
       "3     EAR                   Early-demographic dividend              2.073571   \n",
       "4     EAS                          East Asia & Pacific              2.930966   \n",
       "\n",
       "   EG.ELC.ACCS.ZS  EG.FEC.RNEW.ZS  EN.ATM.CO2E.PC  FP.CPI.TOTL.ZG  \\\n",
       "0      100.000000       14.538355        6.820042        1.840965   \n",
       "1       93.114511        9.096342        9.277109        3.250344   \n",
       "2       94.997330       16.471817        5.106045        3.789836   \n",
       "3       79.455104       26.481427        2.119827        4.580200   \n",
       "4       95.496185       13.729447        5.701783        3.247588   \n",
       "\n",
       "   IT.CEL.SETS.P2  IT.NET.USER.ZS  NE.EXP.GNFS.ZS  ...  NY.GDP.PCAP.CD  \\\n",
       "0      122.192106       58.599297       52.333390  ...    12567.128310   \n",
       "1      113.628492       35.407690       44.935642  ...     8726.326154   \n",
       "2       69.905604       28.957482       30.572597  ...     4007.323783   \n",
       "3       68.069446       12.835425       27.711023  ...     2926.483907   \n",
       "4       73.657018       34.269800       32.153225  ...     7674.475705   \n",
       "\n",
       "   SP.DYN.AMRT.FE  SP.DYN.AMRT.MA  SP.DYN.CBRT.IN  SP.DYN.CDRT.IN  \\\n",
       "0       77.039930      189.578062       10.543330       11.429917   \n",
       "1      121.928584      200.568068       17.555646        7.436407   \n",
       "2       91.717833      134.835195       14.439063        7.019396   \n",
       "3      150.595639      214.978616       22.914627        7.028941   \n",
       "4       86.702958      130.465277       13.880915        7.095146   \n",
       "\n",
       "   SP.DYN.IMRT.IN  SP.DYN.LE00.IN  SP.DYN.TFRT.IN  SP.POP.GROW  \\\n",
       "0        6.019183       75.295349        1.465325    -0.362710   \n",
       "1       18.406085       72.252392        2.151960     0.642147   \n",
       "2       19.100000       73.482345        1.843869     0.713160   \n",
       "3       40.042149       67.955732        2.763140     1.534541   \n",
       "4       18.136433       74.383915        1.797065     0.675231   \n",
       "\n",
       "   SP.URB.TOTL.IN.ZS  \n",
       "0          62.059417  \n",
       "1          42.083135  \n",
       "2          47.696831  \n",
       "3          42.113134  \n",
       "4          51.791229  \n",
       "\n",
       "[5 rows x 21 columns]"
      ]
     },
     "execution_count": 7,
     "metadata": {},
     "output_type": "execute_result"
    }
   ],
   "source": [
    "df.head(5)"
   ]
  },
  {
   "cell_type": "code",
   "execution_count": 8,
   "id": "8190b51d",
   "metadata": {},
   "outputs": [
    {
     "data": {
      "text/plain": [
       "Index(['Country', 'Country Groups', 'BX.KLT.DINV.WD.GD.ZS', 'EG.ELC.ACCS.ZS',\n",
       "       'EG.FEC.RNEW.ZS', 'EN.ATM.CO2E.PC', 'FP.CPI.TOTL.ZG', 'IT.CEL.SETS.P2',\n",
       "       'IT.NET.USER.ZS', 'NE.EXP.GNFS.ZS', 'NE.IMP.GNFS.ZS', 'NY.GDP.PCAP.CD',\n",
       "       'SP.DYN.AMRT.FE', 'SP.DYN.AMRT.MA', 'SP.DYN.CBRT.IN', 'SP.DYN.CDRT.IN',\n",
       "       'SP.DYN.IMRT.IN', 'SP.DYN.LE00.IN', 'SP.DYN.TFRT.IN', 'SP.POP.GROW',\n",
       "       'SP.URB.TOTL.IN.ZS'],\n",
       "      dtype='object')"
      ]
     },
     "execution_count": 8,
     "metadata": {},
     "output_type": "execute_result"
    }
   ],
   "source": [
    "df.columns"
   ]
  },
  {
   "cell_type": "code",
   "execution_count": 11,
   "id": "ed8212fe",
   "metadata": {},
   "outputs": [],
   "source": [
    "# Extract the column for visualization\n",
    "access = df['EG.ELC.ACCS.ZS']"
   ]
  },
  {
   "cell_type": "code",
   "execution_count": 13,
   "id": "0588106a",
   "metadata": {},
   "outputs": [
    {
     "data": {
      "image/png": "[encoded data removed]",
      "text/plain": [
       "<Figure size 800x600 with 1 Axes>"
      ]
     },
     "metadata": {},
     "output_type": "display_data"
    }
   ],
   "source": [
    "# Create a histogram\n",
    "plt.figure(figsize=(8, 6))\n",
    "plt.hist(access, bins=20, color='skyblue', edgecolor='black')\n",
    "plt.title('Distribution of Electricity Access')\n",
    "plt.xlabel('Electricity Access (% of population)')\n",
    "plt.ylabel('Frequency')\n",
    "\n",
    "plt.show()"
   ]
  },
  {
   "cell_type": "code",
   "execution_count": 15,
   "id": "0f8fcf09",
   "metadata": {},
   "outputs": [],
   "source": [
    "from sklearn.preprocessing import StandardScaler"
   ]
  },
  {
   "cell_type": "markdown",
   "id": "2eb054b1",
   "metadata": {},
   "source": [
    "Standardisation is preferred for its robustness to outliers, preservation of distribution shape, and suitability for algorithms relying on distances or gradients. Its interpretability and applicability to diverse data types make it versatile, aligning with the needs of statistical analyses and machine learning algorithms for improved stability and performance across various scenarios."
   ]
  },
  {
   "cell_type": "code",
   "execution_count": 21,
   "id": "666b065c",
   "metadata": {},
   "outputs": [],
   "source": [
    "# Reshape the 1D array to 2D\n",
    "access_2d = access.values.reshape(-1, 1)\n",
    "\n",
    "# Fit and transform the data\n",
    "access_scaled = scaler.fit_transform(access_2d)\n",
    "\n",
    "# Create a new DataFrame with the scaled values\n",
    "df_scaled = pd.DataFrame(access_scaled, columns=['EG.ELC.ACCS.ZS_scaled'])\n"
   ]
  },
  {
   "cell_type": "code",
   "execution_count": 22,
   "id": "95d6c339",
   "metadata": {},
   "outputs": [
    {
     "name": "stdout",
     "output_type": "stream",
     "text": [
      "   EG.ELC.ACCS.ZS_scaled\n",
      "0               0.909406\n",
      "1               0.641509\n",
      "2               0.714765\n",
      "3               0.110058\n",
      "4               0.734174\n"
     ]
    }
   ],
   "source": [
    "# Display the first few rows of the scaled DataFrame\n",
    "print(df_scaled.head())"
   ]
  },
  {
   "cell_type": "code",
   "execution_count": 23,
   "id": "75e7d3fd",
   "metadata": {},
   "outputs": [],
   "source": [
    "import matplotlib.pyplot as plt\n",
    "import seaborn as sns"
   ]
  },
  {
   "cell_type": "code",
   "execution_count": 24,
   "id": "8bb6b215",
   "metadata": {},
   "outputs": [],
   "source": [
    "# Create DataFrames for the original and scaled data\n",
    "df_original = pd.DataFrame({'EG.ELC.ACCS.ZS': access.squeeze()})\n",
    "df_scaled = pd.DataFrame({'EG.ELC.ACCS.ZS_scaled': access_scaled.squeeze()})\n"
   ]
  },
  {
   "cell_type": "code",
   "execution_count": 25,
   "id": "cfd61230",
   "metadata": {},
   "outputs": [
    {
     "data": {
      "image/png": "[encoded data removed]",
      "text/plain": [
       "<Figure size 640x480 with 2 Axes>"
      ]
     },
     "metadata": {},
     "output_type": "display_data"
    }
   ],
   "source": [
    "# Plot the original data\n",
    "plt.subplot(1, 2, 1)\n",
    "sns.histplot(df_original['EG.ELC.ACCS.ZS'], bins=20, color='skyblue', kde=True)\n",
    "plt.title('Original Data')\n",
    "plt.xlabel('Electricity Access (% of population)')\n",
    "plt.ylabel('Density')\n",
    "\n",
    "# Plot the scaled data\n",
    "plt.subplot(1, 2, 2)\n",
    "sns.histplot(df_scaled['EG.ELC.ACCS.ZS_scaled'], bins=20, color='lightcoral', kde=True)\n",
    "plt.title('Scaled Data')\n",
    "plt.xlabel('Standardized Electricity Access')\n",
    "plt.ylabel('Density')\n",
    "\n",
    "plt.tight_layout()\n",
    "plt.show()"
   ]
  },
  {
   "cell_type": "code",
   "execution_count": null,
   "id": "468ded05",
   "metadata": {},
   "outputs": [],
   "source": []
  }
 ],
 "metadata": {
  "kernelspec": {
   "display_name": "Python 3 (ipykernel)",
   "language": "python",
   "name": "python3"
  },
  "language_info": {
   "codemirror_mode": {
    "name": "ipython",
    "version": 3
   },
   "file_extension": ".py",
   "mimetype": "text/x-python",
   "name": "python",
   "nbconvert_exporter": "python",
   "pygments_lexer": "ipython3",
   "version": "3.11.3"
  }
 },
 "nbformat": 4,
 "nbformat_minor": 5
}
