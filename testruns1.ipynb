{
 "cells": [
  {
   "cell_type": "code",
   "execution_count": 1,
   "id": "e78a8edc",
   "metadata": {},
   "outputs": [
    {
     "name": "stdout",
     "output_type": "stream",
     "text": [
      "Mary PERSON\n"
     ]
    }
   ],
   "source": [
    "import spacy\n",
    "\n",
    "# Load English language model\n",
    "nlp = spacy.load(\"en_core_web_sm\")\n",
    "\n",
    "# Process the text\n",
    "text = \"Mary gave the child a Band-Aid.\"\n",
    "doc = nlp(text)\n",
    "\n",
    "# Access entities\n",
    "for ent in doc.ents:\n",
    "    print(ent.text, ent.label_)\n"
   ]
  },
  {
   "cell_type": "code",
   "execution_count": 2,
   "id": "b7af7aff",
   "metadata": {},
   "outputs": [
    {
     "name": "stdout",
     "output_type": "stream",
     "text": [
      "Apple Inc. ORG\n",
      "Steve Jobs PERSON\n",
      "Steve Wozniak PERSON\n",
      "Ronald Wayne PERSON\n",
      "Cupertino GPE\n",
      "California GPE\n"
     ]
    }
   ],
   "source": [
    "# Example sentence\n",
    "text = \"Apple Inc. was founded by Steve Jobs, Steve Wozniak, and Ronald Wayne. The headquarters is located in Cupertino, California.\"\n",
    "\n",
    "# Process the text\n",
    "doc = nlp(text)\n",
    "\n",
    "# Access entities\n",
    "for ent in doc.ents:\n",
    "    print(ent.text, ent.label_)"
   ]
  },
  {
   "cell_type": "code",
   "execution_count": 3,
   "id": "79c642b0",
   "metadata": {},
   "outputs": [
    {
     "name": "stdout",
     "output_type": "stream",
     "text": [
      "\n",
      "Named Entities in Article 1:\n",
      "Apple Inc. announced a new product launch scheduled for next month in Cupertino, California.\n",
      "\n",
      "Apple Inc. - ORG\n",
      "next month - DATE\n",
      "Cupertino - GPE\n",
      "California - GPE\n",
      "\n",
      "----------------------\n",
      "\n",
      "\n",
      "Named Entities in Article 2:\n",
      "The famous scientist Marie Curie was awarded the Nobel Prize in Physics in 1903.\n",
      "\n",
      "Marie Curie - PERSON\n",
      "the Nobel Prize in Physics - WORK_OF_ART\n",
      "1903 - DATE\n",
      "\n",
      "----------------------\n",
      "\n",
      "\n",
      "Named Entities in Article 3:\n",
      "Tesla Motors, founded by Elon Musk, achieved record sales in the last quarter.\n",
      "\n",
      "Tesla Motors - ORG\n",
      "Elon Musk - PERSON\n",
      "the last quarter - DATE\n",
      "\n",
      "----------------------\n",
      "\n",
      "\n",
      "Named Entities in Article 4:\n",
      "The United Nations headquarters is located in New York City, USA.\n",
      "\n",
      "The United Nations - ORG\n",
      "New York City - GPE\n",
      "USA - GPE\n",
      "\n",
      "----------------------\n",
      "\n"
     ]
    }
   ],
   "source": [
    "# Sample news articles\n",
    "news_articles = [\n",
    "    \"Apple Inc. announced a new product launch scheduled for next month in Cupertino, California.\",\n",
    "    \"The famous scientist Marie Curie was awarded the Nobel Prize in Physics in 1903.\",\n",
    "    \"Tesla Motors, founded by Elon Musk, achieved record sales in the last quarter.\",\n",
    "    \"The United Nations headquarters is located in New York City, USA.\"\n",
    "]\n",
    "\n",
    "# Process each news article and extract named entities\n",
    "for i, article in enumerate(news_articles, 1):\n",
    "    doc = nlp(article)\n",
    "    \n",
    "    # Extract and print named entities\n",
    "    entities = [(ent.text, ent.label_) for ent in doc.ents]\n",
    "    \n",
    "    print(f\"\\nNamed Entities in Article {i}:\\n{article}\\n\")\n",
    "    \n",
    "    if entities:\n",
    "        for ent, label in entities:\n",
    "            print(f\"{ent} - {label}\")\n",
    "    else:\n",
    "        print(\"No named entities found.\")\n",
    "\n",
    "    print(\"\\n----------------------\\n\")"
   ]
  },
  {
   "cell_type": "code",
   "execution_count": 4,
   "id": "5f4e8c0f",
   "metadata": {},
   "outputs": [
    {
     "name": "stdout",
     "output_type": "stream",
     "text": [
      "Named Entities: [('Washington', 'GPE'), ('next week', 'DATE')]\n"
     ]
    }
   ],
   "source": [
    "# Process a document\n",
    "document = nlp(\"Intelligence suggests that a meeting between leaders is scheduled in Washington next week.\")\n",
    "\n",
    "# Extract and print named entities\n",
    "entities = [(ent.text, ent.label_) for ent in document.ents]\n",
    "print(\"Named Entities:\", entities)"
   ]
  },
  {
   "cell_type": "code",
   "execution_count": null,
   "id": "79fbd161",
   "metadata": {},
   "outputs": [],
   "source": []
  }
 ],
 "metadata": {
  "kernelspec": {
   "display_name": "Python 3 (ipykernel)",
   "language": "python",
   "name": "python3"
  },
  "language_info": {
   "codemirror_mode": {
    "name": "ipython",
    "version": 3
   },
   "file_extension": ".py",
   "mimetype": "text/x-python",
   "name": "python",
   "nbconvert_exporter": "python",
   "pygments_lexer": "ipython3",
   "version": "3.11.3"
  }
 },
 "nbformat": 4,
 "nbformat_minor": 5
}
