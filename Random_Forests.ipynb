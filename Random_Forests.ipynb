{
 "cells": [
  {
   "cell_type": "markdown",
   "metadata": {
    "id": "GL6D3Pad7f1S"
   },
   "source": [
    "## Improving Decision Trees"
   ]
  },
  {
   "cell_type": "markdown",
   "metadata": {},
   "source": [
    "Compulsory Task\n",
    "In this task, we continue with the decision_trees.ipynb notebook created in the previous task (decision_tree_titanic). \n",
    "\n",
    "Create a bagged, Random Forest, and Boosted tree for the titanic dataset in the way way that  a classification tree was created. \n",
    "\n",
    "From the random model, determine which of the features is the one that contributes the most to predicting whether a passenger survives or not.\n",
    "Pick one of these methods, and tune the parameters n_estimators and max_depth\n",
    "Report the accuracy of all models and report which model performed the best, including the values for n_estimators and max_depth that the best model had"
   ]
  },
  {
   "cell_type": "markdown",
   "metadata": {},
   "source": [
    "For this task, we import the required libraries, note further libraries will be updated as required. We then read the dataset in. Note for this task, we wouldnt carry out an indepth analysis of the dataset as we have done so in the previous task. We will check for operationality. "
   ]
  },
  {
   "cell_type": "code",
   "execution_count": 12,
   "metadata": {
    "id": "pN9VMGrB7f2S"
   },
   "outputs": [],
   "source": [
    "# import packages \n",
    "import pandas as pd\n",
    "\n",
    "from sklearn.model_selection import train_test_split\n",
    "from sklearn.preprocessing import LabelEncoder\n",
    "from sklearn.datasets import make_classification\n",
    "from sklearn.metrics import accuracy_score\n",
    "from sklearn.model_selection import train_test_split\n",
    "\n",
    "from sklearn.tree import DecisionTreeClassifier\n",
    "from sklearn.ensemble import BaggingClassifier\n",
    "from sklearn.ensemble import RandomForestClassifier\n",
    "from sklearn.ensemble import AdaBoostClassifier\n",
    "\n",
    "import matplotlib.pyplot as plt\n",
    "%matplotlib inline"
   ]
  },
  {
   "cell_type": "code",
   "execution_count": 13,
   "metadata": {},
   "outputs": [
    {
     "data": {
      "text/html": [
       "<div>\n",
       "<style scoped>\n",
       "    .dataframe tbody tr th:only-of-type {\n",
       "        vertical-align: middle;\n",
       "    }\n",
       "\n",
       "    .dataframe tbody tr th {\n",
       "        vertical-align: top;\n",
       "    }\n",
       "\n",
       "    .dataframe thead th {\n",
       "        text-align: right;\n",
       "    }\n",
       "</style>\n",
       "<table border=\"1\" class=\"dataframe\">\n",
       "  <thead>\n",
       "    <tr style=\"text-align: right;\">\n",
       "      <th></th>\n",
       "      <th>PassengerId</th>\n",
       "      <th>Survived</th>\n",
       "      <th>Pclass</th>\n",
       "      <th>Name</th>\n",
       "      <th>Sex</th>\n",
       "      <th>Age</th>\n",
       "      <th>SibSp</th>\n",
       "      <th>Parch</th>\n",
       "      <th>Ticket</th>\n",
       "      <th>Fare</th>\n",
       "      <th>Cabin</th>\n",
       "      <th>Embarked</th>\n",
       "    </tr>\n",
       "  </thead>\n",
       "  <tbody>\n",
       "    <tr>\n",
       "      <th>0</th>\n",
       "      <td>1</td>\n",
       "      <td>0</td>\n",
       "      <td>3</td>\n",
       "      <td>Braund, Mr. Owen Harris</td>\n",
       "      <td>male</td>\n",
       "      <td>22.0</td>\n",
       "      <td>1</td>\n",
       "      <td>0</td>\n",
       "      <td>A/5 21171</td>\n",
       "      <td>7.2500</td>\n",
       "      <td>NaN</td>\n",
       "      <td>S</td>\n",
       "    </tr>\n",
       "    <tr>\n",
       "      <th>1</th>\n",
       "      <td>2</td>\n",
       "      <td>1</td>\n",
       "      <td>1</td>\n",
       "      <td>Cumings, Mrs. John Bradley (Florence Briggs Th...</td>\n",
       "      <td>female</td>\n",
       "      <td>38.0</td>\n",
       "      <td>1</td>\n",
       "      <td>0</td>\n",
       "      <td>PC 17599</td>\n",
       "      <td>71.2833</td>\n",
       "      <td>C85</td>\n",
       "      <td>C</td>\n",
       "    </tr>\n",
       "    <tr>\n",
       "      <th>2</th>\n",
       "      <td>3</td>\n",
       "      <td>1</td>\n",
       "      <td>3</td>\n",
       "      <td>Heikkinen, Miss. Laina</td>\n",
       "      <td>female</td>\n",
       "      <td>26.0</td>\n",
       "      <td>0</td>\n",
       "      <td>0</td>\n",
       "      <td>STON/O2. 3101282</td>\n",
       "      <td>7.9250</td>\n",
       "      <td>NaN</td>\n",
       "      <td>S</td>\n",
       "    </tr>\n",
       "    <tr>\n",
       "      <th>3</th>\n",
       "      <td>4</td>\n",
       "      <td>1</td>\n",
       "      <td>1</td>\n",
       "      <td>Futrelle, Mrs. Jacques Heath (Lily May Peel)</td>\n",
       "      <td>female</td>\n",
       "      <td>35.0</td>\n",
       "      <td>1</td>\n",
       "      <td>0</td>\n",
       "      <td>113803</td>\n",
       "      <td>53.1000</td>\n",
       "      <td>C123</td>\n",
       "      <td>S</td>\n",
       "    </tr>\n",
       "    <tr>\n",
       "      <th>4</th>\n",
       "      <td>5</td>\n",
       "      <td>0</td>\n",
       "      <td>3</td>\n",
       "      <td>Allen, Mr. William Henry</td>\n",
       "      <td>male</td>\n",
       "      <td>35.0</td>\n",
       "      <td>0</td>\n",
       "      <td>0</td>\n",
       "      <td>373450</td>\n",
       "      <td>8.0500</td>\n",
       "      <td>NaN</td>\n",
       "      <td>S</td>\n",
       "    </tr>\n",
       "  </tbody>\n",
       "</table>\n",
       "</div>"
      ],
      "text/plain": [
       "   PassengerId  Survived  Pclass  \\\n",
       "0            1         0       3   \n",
       "1            2         1       1   \n",
       "2            3         1       3   \n",
       "3            4         1       1   \n",
       "4            5         0       3   \n",
       "\n",
       "                                                Name     Sex   Age  SibSp  \\\n",
       "0                            Braund, Mr. Owen Harris    male  22.0      1   \n",
       "1  Cumings, Mrs. John Bradley (Florence Briggs Th...  female  38.0      1   \n",
       "2                             Heikkinen, Miss. Laina  female  26.0      0   \n",
       "3       Futrelle, Mrs. Jacques Heath (Lily May Peel)  female  35.0      1   \n",
       "4                           Allen, Mr. William Henry    male  35.0      0   \n",
       "\n",
       "   Parch            Ticket     Fare Cabin Embarked  \n",
       "0      0         A/5 21171   7.2500   NaN        S  \n",
       "1      0          PC 17599  71.2833   C85        C  \n",
       "2      0  STON/O2. 3101282   7.9250   NaN        S  \n",
       "3      0            113803  53.1000  C123        S  \n",
       "4      0            373450   8.0500   NaN        S  "
      ]
     },
     "execution_count": 13,
     "metadata": {},
     "output_type": "execute_result"
    }
   ],
   "source": [
    "# Import the data\n",
    "titanic_df = pd.read_csv(\"titanic.csv\")\n",
    "\n",
    "# Checking the top 5 of the dataset\n",
    "titanic_df.head(5)"
   ]
  },
  {
   "cell_type": "code",
   "execution_count": 14,
   "metadata": {},
   "outputs": [
    {
     "data": {
      "text/plain": [
       "Index(['PassengerId', 'Survived', 'Pclass', 'Name', 'Sex', 'Age', 'SibSp',\n",
       "       'Parch', 'Ticket', 'Fare', 'Cabin', 'Embarked'],\n",
       "      dtype='object')"
      ]
     },
     "execution_count": 14,
     "metadata": {},
     "output_type": "execute_result"
    }
   ],
   "source": [
    "titanic_df.columns"
   ]
  },
  {
   "cell_type": "code",
   "execution_count": 15,
   "metadata": {
    "id": "KmYXIFFc7f2Y",
    "outputId": "a462baff-b425-4eba-f2a4-0419e5932a6b"
   },
   "outputs": [],
   "source": [
    "# Drop irrelevant columns (for simplicity,)\n",
    "titanic_df = titanic_df.drop(['PassengerId', 'Name', 'Ticket', 'Cabin'], axis=1)\n",
    "\n",
    "# Handle the missing values we identified from the previous tasks. \n",
    "titanic_df['Age'].fillna(titanic_df['Age'].median(), inplace=True)\n",
    "titanic_df['Embarked'].fillna(titanic_df['Embarked'].mode()[0], inplace=True)\n",
    "titanic_df['Fare'].fillna(titanic_df['Fare'].median(), inplace=True)\n",
    "\n",
    "# Encode the categorical variables\n",
    "le = LabelEncoder()\n",
    "titanic_df['Sex'] = le.fit_transform(titanic_df['Sex'])\n",
    "titanic_df['Embarked'] = le.fit_transform(titanic_df['Embarked'])\n"
   ]
  },
  {
   "cell_type": "code",
   "execution_count": 17,
   "metadata": {},
   "outputs": [
    {
     "name": "stdout",
     "output_type": "stream",
     "text": [
      "Training set size: 712\n",
      "Development set size: 89\n",
      "Test set size: 90\n"
     ]
    }
   ],
   "source": [
    "# Split the dataset into training and temporary set (80% training, 20% temp_set)\n",
    "X_train, temp_set, y_train, y_temp_set = train_test_split(X, y, test_size=0.2, random_state=42)\n",
    "\n",
    "# Further split the temporary set into development and test sets (50% each of the remaining data)\n",
    "X_dev, X_test, y_dev, y_test = train_test_split(temp_set, y_temp_set, test_size=0.5, random_state=42)\n",
    "\n",
    "# Display the sizes of the sets\n",
    "print(\"Training set size:\", len(X_train))\n",
    "print(\"Development set size:\", len(X_dev))\n",
    "print(\"Test set size:\", len(X_test))"
   ]
  },
  {
   "cell_type": "code",
   "execution_count": 19,
   "metadata": {},
   "outputs": [
    {
     "name": "stdout",
     "output_type": "stream",
     "text": [
      "Bagged Classifier Accuracy on Development Set: 0.797752808988764\n",
      "Bagged Classifier Accuracy on Test Set: 0.7444444444444445\n"
     ]
    }
   ],
   "source": [
    "# Create and fit a Bagged classifier\n",
    "# Replace 'base_estimator' with 'estimator'\n",
    "bagged_classifier = BaggingClassifier(estimator=DecisionTreeClassifier(), random_state=42)\n",
    "\n",
    "bagged_classifier.fit(X_train, y_train)\n",
    "\n",
    "# Make predictions on the development set\n",
    "bagged_predictions_dev = bagged_classifier.predict(X_dev)\n",
    "\n",
    "# Evaluate accuracy on the development set\n",
    "bagged_accuracy_dev = accuracy_score(y_dev, bagged_predictions_dev)\n",
    "print(\"Bagged Classifier Accuracy on Development Set:\", bagged_accuracy_dev)\n",
    "\n",
    "# Make predictions on the test set\n",
    "bagged_predictions_test = bagged_classifier.predict(X_test)\n",
    "\n",
    "# Evaluate accuracy on the test set\n",
    "bagged_accuracy_test = accuracy_score(y_test, bagged_predictions_test)\n",
    "print(\"Bagged Classifier Accuracy on Test Set:\", bagged_accuracy_test)"
   ]
  },
  {
   "cell_type": "code",
   "execution_count": 20,
   "metadata": {},
   "outputs": [
    {
     "name": "stdout",
     "output_type": "stream",
     "text": [
      "Random Forest Classifier Accuracy on Development Set: 0.8539325842696629\n",
      "Random Forest Classifier Accuracy on Test Set: 0.7888888888888889\n"
     ]
    }
   ],
   "source": [
    "# Create and fit a Random Forest classifier\n",
    "random_forest_classifier = RandomForestClassifier(n_estimators=50, random_state=42)\n",
    "random_forest_classifier.fit(X_train, y_train)\n",
    "\n",
    "# Make predictions on the development set\n",
    "rf_predictions_dev = random_forest_classifier.predict(X_dev)\n",
    "\n",
    "# Evaluate accuracy on the development set\n",
    "rf_accuracy_dev = accuracy_score(y_dev, rf_predictions_dev)\n",
    "print(\"Random Forest Classifier Accuracy on Development Set:\", rf_accuracy_dev)\n",
    "\n",
    "# Make predictions on the test set\n",
    "rf_predictions_test = random_forest_classifier.predict(X_test)\n",
    "\n",
    "# Evaluate accuracy on the test set\n",
    "rf_accuracy_test = accuracy_score(y_test, rf_predictions_test)\n",
    "print(\"Random Forest Classifier Accuracy on Test Set:\", rf_accuracy_test)"
   ]
  },
  {
   "cell_type": "code",
   "execution_count": 22,
   "metadata": {},
   "outputs": [
    {
     "name": "stdout",
     "output_type": "stream",
     "text": [
      "Boosted Tree Classifier Accuracy on Development Set: 0.8426966292134831\n",
      "Boosted Tree Classifier Accuracy on Test Set: 0.7555555555555555\n"
     ]
    }
   ],
   "source": [
    "# Import the required library\n",
    "from sklearn.ensemble import GradientBoostingClassifier\n",
    "\n",
    "# Create and fit a Boosted Tree classifier\n",
    "boosted_tree_classifier = GradientBoostingClassifier(n_estimators=50, random_state=42)\n",
    "boosted_tree_classifier.fit(X_train, y_train)\n",
    "\n",
    "# Make predictions on the development set\n",
    "boosted_predictions_dev = boosted_tree_classifier.predict(X_dev)\n",
    "\n",
    "# Evaluate accuracy on the development set\n",
    "boosted_accuracy_dev = accuracy_score(y_dev, boosted_predictions_dev)\n",
    "print(\"Boosted Tree Classifier Accuracy on Development Set:\", boosted_accuracy_dev)\n",
    "\n",
    "# Make predictions on the test set\n",
    "boosted_predictions_test = boosted_tree_classifier.predict(X_test)\n",
    "\n",
    "# Evaluate accuracy on the test set\n",
    "boosted_accuracy_test = accuracy_score(y_test, boosted_predictions_test)\n",
    "print(\"Boosted Tree Classifier Accuracy on Test Set:\", boosted_accuracy_test)"
   ]
  },
  {
   "cell_type": "markdown",
   "metadata": {},
   "source": [
    "Task From the random model, determine which of the features is the one that contributes the most to predicting whether a passenger survives or not."
   ]
  },
  {
   "cell_type": "code",
   "execution_count": 25,
   "metadata": {},
   "outputs": [
    {
     "name": "stdout",
     "output_type": "stream",
     "text": [
      "Feature Importances:\n",
      "    Feature  Importance\n",
      "1       Sex    0.378567\n",
      "5      Fare    0.211845\n",
      "2       Age    0.170308\n",
      "0    Pclass    0.117004\n",
      "3     SibSp    0.049829\n",
      "4     Parch    0.037865\n",
      "6  Embarked    0.034583\n"
     ]
    },
    {
     "data": {
      "image/png": "[encoded data removed]",
      "text/plain": [
       "<Figure size 1000x600 with 1 Axes>"
      ]
     },
     "metadata": {},
     "output_type": "display_data"
    }
   ],
   "source": [
    "# Create and fit a Random Forest classifier with the best hyperparameters\n",
    "best_rf_classifier = RandomForestClassifier(n_estimators=150, max_depth=10, min_samples_split=5, min_samples_leaf=2, random_state=42)\n",
    "best_rf_classifier.fit(X_train, y_train)\n",
    "\n",
    "# Extract feature importances from the Random Forest model\n",
    "feature_importances = best_rf_classifier.feature_importances_\n",
    "\n",
    "# Create a DataFrame to display feature importances\n",
    "feature_importance_df = pd.DataFrame({'Feature': X_train.columns, 'Importance': feature_importances})\n",
    "feature_importance_df = feature_importance_df.sort_values(by='Importance', ascending=False)\n",
    "\n",
    "# Display the feature importances\n",
    "print(\"Feature Importances:\")\n",
    "print(feature_importance_df)\n",
    "\n",
    "# Plotting the feature importances\n",
    "plt.figure(figsize=(10, 6))\n",
    "plt.barh(feature_importance_df['Feature'], feature_importance_df['Importance'])\n",
    "plt.xlabel('Importance')\n",
    "plt.title('Feature Importances - Random Forest Classifier')\n",
    "plt.show()"
   ]
  },
  {
   "cell_type": "code",
   "execution_count": 26,
   "metadata": {},
   "outputs": [],
   "source": [
    "# Import the required library\n",
    "from sklearn.model_selection import GridSearchCV\n",
    "\n",
    "# Define the Random Forest classifier\n",
    "rf_classifier = RandomForestClassifier(random_state=42)\n",
    "\n",
    "# Define the hyperparameter grid for tuning\n",
    "param_grid_rf = {\n",
    "    'n_estimators': [50, 100, 150],\n",
    "    'max_depth': [None, 10, 20, 30]\n",
    "}\n"
   ]
  },
  {
   "cell_type": "code",
   "execution_count": 27,
   "metadata": {},
   "outputs": [],
   "source": [
    "# Perform GridSearchCV to find the best hyperparameters\n",
    "grid_search_rf = GridSearchCV(rf_classifier, param_grid_rf, cv=5, scoring='accuracy')\n",
    "grid_search_rf.fit(X_train, y_train)\n",
    "\n",
    "# Get the best Random Forest classifier with optimised hyperparameters\n",
    "best_rf_classifier_tuned = grid_search_rf.best_estimator_\n",
    "\n",
    "# Extract feature importances from the best Random Forest model\n",
    "feature_importances_tuned = best_rf_classifier_tuned.feature_importances_\n",
    "\n",
    "# Create a DataFrame to display feature importances\n",
    "feature_importance_df_tuned = pd.DataFrame({'Feature': X_train.columns, 'Importance': feature_importances_tuned})\n",
    "feature_importance_df_tuned = feature_importance_df_tuned.sort_values(by='Importance', ascending=False)\n"
   ]
  },
  {
   "cell_type": "code",
   "execution_count": 28,
   "metadata": {},
   "outputs": [
    {
     "name": "stdout",
     "output_type": "stream",
     "text": [
      "Feature Importances:\n",
      "    Feature  Importance\n",
      "1       Sex    0.323070\n",
      "5      Fare    0.232390\n",
      "2       Age    0.202215\n",
      "0    Pclass    0.103372\n",
      "3     SibSp    0.057619\n",
      "4     Parch    0.044465\n",
      "6  Embarked    0.036869\n",
      "\n",
      "Model Accuracies:\n",
      "Original Random Forest Accuracy on Development Set: 0.8764044943820225\n",
      "Original Random Forest Accuracy on Test Set: 0.7777777777777778\n",
      "Tuned Random Forest Accuracy on Development Set: 0.8426966292134831\n",
      "Tuned Random Forest Accuracy on Test Set: 0.7777777777777778\n",
      "\n",
      "Best-performing Model:\n",
      "Model: Random Forest (Tuned)\n",
      "n_estimators: 150\n",
      "max_depth: 10\n"
     ]
    }
   ],
   "source": [
    "# Display the feature importances\n",
    "print(\"Feature Importances:\")\n",
    "print(feature_importance_df_tuned)\n",
    "\n",
    "# Report the accuracy of all models\n",
    "print(\"\\nModel Accuracies:\")\n",
    "print(\"Original Random Forest Accuracy on Development Set:\", accuracy_score(y_dev, best_rf_classifier.predict(X_dev)))\n",
    "print(\"Original Random Forest Accuracy on Test Set:\", accuracy_score(y_test, best_rf_classifier.predict(X_test)))\n",
    "\n",
    "print(\"Tuned Random Forest Accuracy on Development Set:\", accuracy_score(y_dev, best_rf_classifier_tuned.predict(X_dev)))\n",
    "print(\"Tuned Random Forest Accuracy on Test Set:\", accuracy_score(y_test, best_rf_classifier_tuned.predict(X_test)))\n",
    "\n",
    "# Report the best-performing model and its hyperparameters\n",
    "print(\"\\nBest-performing Model:\")\n",
    "print(\"Model: Random Forest (Tuned)\")\n",
    "print(\"n_estimators:\", best_rf_classifier_tuned.n_estimators)\n",
    "print(\"max_depth:\", best_rf_classifier_tuned.max_depth)\n"
   ]
  },
  {
   "cell_type": "markdown",
   "metadata": {},
   "source": [
    "It looks like the tuned Random Forest model with n_estimators=150 and max_depth=10 achieved an accuracy of approximately 84.3% on the development set and 77.8% on the test set. While the tuning process didn't significantly improve the accuracy on the test set, it's important to note that the original Random Forest model already performed well.\n",
    "\n",
    "The feature importances indicate the relative importance of each feature in making predictions. In this case, the 'Sex' feature is the most influential, followed by 'Fare', 'Age', 'Pclass', 'SibSp', 'Parch', and 'Embarked'."
   ]
  },
  {
   "cell_type": "code",
   "execution_count": 29,
   "metadata": {},
   "outputs": [
    {
     "data": {
      "image/png": "[encoded data removed]",
      "text/plain": [
       "<Figure size 1200x600 with 1 Axes>"
      ]
     },
     "metadata": {},
     "output_type": "display_data"
    }
   ],
   "source": [
    "# Original Feature Importances\n",
    "original_importances = [0.378567, 0.211845, 0.170308, 0.117004, 0.049829, 0.037865, 0.034583]\n",
    "\n",
    "# Tuned Feature Importances\n",
    "tuned_importances = [0.323070, 0.232390, 0.202215, 0.103372, 0.057619, 0.044465, 0.036869]\n",
    "\n",
    "# Feature Labels\n",
    "features = ['Sex', 'Fare', 'Age', 'Pclass', 'SibSp', 'Parch', 'Embarked']\n",
    "\n",
    "# Bar plot for Feature Importances\n",
    "plt.figure(figsize=(12, 6))\n",
    "plt.bar(features, original_importances, color='lightblue', label='Original Random Forest')\n",
    "plt.bar(features, tuned_importances, color='orange', alpha=0.7, label='Tuned Random Forest')\n",
    "\n",
    "plt.xlabel('Features')\n",
    "plt.ylabel('Importance')\n",
    "plt.title('Comparison of Feature Importances between Original and Tuned Random Forest Models')\n",
    "plt.legend()\n",
    "plt.show()\n"
   ]
  },
  {
   "cell_type": "code",
   "execution_count": 31,
   "metadata": {},
   "outputs": [
    {
     "data": {
      "image/png": "[encoded data removed]",
      "text/plain": [
       "<Figure size 640x480 with 1 Axes>"
      ]
     },
     "metadata": {},
     "output_type": "display_data"
    }
   ],
   "source": [
    "import numpy as np\n",
    "\n",
    "# Original Feature Importances\n",
    "original_importances = [0.378567, 0.211845, 0.170308, 0.117004, 0.049829, 0.037865, 0.034583]\n",
    "\n",
    "# Tuned Feature Importances\n",
    "tuned_importances = [0.323070, 0.232390, 0.202215, 0.103372, 0.057619, 0.044465, 0.036869]\n",
    "\n",
    "# Feature Labels\n",
    "features = ['Sex', 'Fare', 'Age', 'Pclass', 'SibSp', 'Parch', 'Embarked']\n",
    "\n",
    "# Bar width\n",
    "bar_width = 0.35\n",
    "index = np.arange(len(features))\n",
    "\n",
    "# Grouped Bar Plot\n",
    "plt.bar(index, original_importances, bar_width, color='lightblue', label='Original Random Forest')\n",
    "plt.bar(index + bar_width, tuned_importances, bar_width, color='orange', label='Tuned Random Forest')\n",
    "\n",
    "# Adjust plot labels and ticks\n",
    "plt.xlabel('Features')\n",
    "plt.ylabel('Importance')\n",
    "plt.title('Comparison of Feature Importances between Original and Tuned Random Forest Models')\n",
    "plt.xticks(index + bar_width / 2, features)\n",
    "plt.legend()\n",
    "\n",
    "# Show the plot\n",
    "plt.tight_layout()\n",
    "plt.show()"
   ]
  },
  {
   "cell_type": "code",
   "execution_count": 32,
   "metadata": {},
   "outputs": [
    {
     "name": "stdout",
     "output_type": "stream",
     "text": [
      "Feature Importances:\n",
      "| Feature   |   Original Importance |   Tuned Importance |\n",
      "|:----------|----------------------:|-------------------:|\n",
      "| Sex       |              0.378567 |           0.32307  |\n",
      "| Fare      |              0.211845 |           0.23239  |\n",
      "| Age       |              0.170308 |           0.202215 |\n",
      "| Pclass    |              0.117004 |           0.103372 |\n",
      "| SibSp     |              0.049829 |           0.057619 |\n",
      "| Parch     |              0.037865 |           0.044465 |\n",
      "| Embarked  |              0.034583 |           0.036869 |\n",
      "\n",
      "Model Accuracies:\n",
      "| Model                  |   Development Set Accuracy |   Test Set Accuracy |\n",
      "|:-----------------------|---------------------------:|--------------------:|\n",
      "| Original Random Forest |                       87.6 |                77.8 |\n",
      "| Tuned Random Forest    |                       84.3 |                77.8 |\n"
     ]
    }
   ],
   "source": [
    "# Original Feature Importances\n",
    "original_importances = [0.378567, 0.211845, 0.170308, 0.117004, 0.049829, 0.037865, 0.034583]\n",
    "\n",
    "# Tuned Feature Importances\n",
    "tuned_importances = [0.323070, 0.232390, 0.202215, 0.103372, 0.057619, 0.044465, 0.036869]\n",
    "\n",
    "# Model Accuracies\n",
    "original_accuracy_dev = 87.6\n",
    "original_accuracy_test = 77.8\n",
    "tuned_accuracy_dev = 84.3\n",
    "tuned_accuracy_test = 77.8\n",
    "\n",
    "# Create a DataFrame for feature importances\n",
    "feature_importance_df = pd.DataFrame({\n",
    "    'Feature': ['Sex', 'Fare', 'Age', 'Pclass', 'SibSp', 'Parch', 'Embarked'],\n",
    "    'Original Importance': original_importances,\n",
    "    'Tuned Importance': tuned_importances\n",
    "})\n",
    "\n",
    "# Create a DataFrame for model accuracies\n",
    "accuracy_df = pd.DataFrame({\n",
    "    'Model': ['Original Random Forest', 'Tuned Random Forest'],\n",
    "    'Development Set Accuracy': [original_accuracy_dev, tuned_accuracy_dev],\n",
    "    'Test Set Accuracy': [original_accuracy_test, tuned_accuracy_test]\n",
    "})\n",
    "\n",
    "# Display feature importances table\n",
    "print(\"Feature Importances:\")\n",
    "print(feature_importance_df.to_markdown(index=False))\n",
    "\n",
    "# Display model accuracies table\n",
    "print(\"\\nModel Accuracies:\")\n",
    "print(accuracy_df.to_markdown(index=False))"
   ]
  },
  {
   "cell_type": "markdown",
   "metadata": {},
   "source": [
    "Sex Feature Importance:\n",
    "\n",
    "Original: 37.86% importance\n",
    "Tuned: 32.31% importance\n",
    "Interpretation: The 'Sex' feature remains the most important in both models, but its importance slightly decreased after tuning.\n",
    "Fare Feature Importance:\n",
    "\n",
    "Original: 21.18% importance\n",
    "Tuned: 23.24% importance\n",
    "Interpretation: The 'Fare' feature shows increased importance after tuning the Random Forest model.\n",
    "Age Feature Importance:\n",
    "\n",
    "Original: 17.03% importance\n",
    "Tuned: 20.22% importance\n",
    "Interpretation: The 'Age' feature's importance has increased after tuning.\n",
    "Pclass Feature Importance:\n",
    "\n",
    "Original: 11.70% importance\n",
    "Tuned: 10.34% importance\n",
    "Interpretation: The 'Pclass' feature remains important, but its importance slightly decreased after tuning.\n",
    "SibSp, Parch, Embarked Feature Importances:\n",
    "\n",
    "Original and Tuned: The importance of these features remains relatively stable.\n",
    "Overall Model Accuracy:\n",
    "\n",
    "The original Random Forest model achieved an accuracy of 87.6% on the development set and 77.8% on the test set.\n",
    "The tuned Random Forest model achieved an accuracy of 84.3% on the development set and maintained the same accuracy of 77.8% on the test set.\n",
    "Interpretation:\n",
    "\n",
    "While the tuned Random Forest model did not significantly improve accuracy, the feature importances show some shifts. Tuning may have led to a more refined model, emphasizing certain features more or less.\n",
    "Understanding feature importances helps in feature selection and gaining insights into which factors contribute most to the model's predictions."
   ]
  },
  {
   "cell_type": "code",
   "execution_count": null,
   "metadata": {},
   "outputs": [],
   "source": []
  }
 ],
 "metadata": {
  "colab": {
   "provenance": []
  },
  "kernelspec": {
   "display_name": "Python 3 (ipykernel)",
   "language": "python",
   "name": "python3"
  },
  "language_info": {
   "codemirror_mode": {
    "name": "ipython",
    "version": 3
   },
   "file_extension": ".py",
   "mimetype": "text/x-python",
   "name": "python",
   "nbconvert_exporter": "python",
   "pygments_lexer": "ipython3",
   "version": "3.11.3"
  }
 },
 "nbformat": 4,
 "nbformat_minor": 1
}
