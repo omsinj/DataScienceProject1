{
 "cells": [
  {
   "cell_type": "markdown",
   "metadata": {
    "id": "IBb6nSAY5T4I"
   },
   "source": [
    "# Machine Learning\n",
    "## Compulsory task"
   ]
  },
  {
   "cell_type": "markdown",
   "metadata": {
    "id": "N02Qu9_f1N45"
   },
   "source": [
    "1. For each of the following examples describe at least one possible input and \n",
    "output. Justify your answers:  \n",
    "* 1.1 A self-driving car\n",
    "* 1.2 Netflix recommendation system\n",
    "* 1.3 Signature recognition\n",
    "* 1.4 Medical diagnosis\n"
   ]
  },
  {
   "cell_type": "markdown",
   "metadata": {
    "id": "-8aBqprP3ypo"
   },
   "source": [
    "1. Answer here\n",
    "\n",
    "|      | Input(s)                                                      | Output                                                           |\n",
    "| ---- | ------------------------------------------------------------- | ----------------------------------------------------------------- |\n",
    "| 1.1  | Sensor data from cameras, lidar, radar, GPS, etc.              | Steering, acceleration, and braking commands for self-driving car |\n",
    "| 1.2  | User viewing history, ratings, time of day, device type, etc. | Personalized movie or TV show recommendations from Netflix        |\n",
    "| 1.3  | Images or scans of signatures                                  | Verification of signature authenticity                            |\n",
    "| 1.4  | Patient medical history, symptoms, test results, etc.          | Medical diagnosis or recommendation for further tests/treatments |\n",
    "\n",
    "1.1 Self-Driving Car:\n",
    "Input(s): Sensor data from cameras, lidar, radar, GPS, and other onboard sensors. For example, images of the road, data on surrounding vehicles, and information about traffic conditions.\n",
    "Output: Steering, acceleration, and braking commands to navigate the car safely. For example, the car might output a command to turn left, slow down, or come to a complete stop based on the input data.\n",
    "1.2 Netflix Recommendation System:\n",
    "Input(s): User viewing history, ratings, time of day, device type, and possibly demographic information. For example, a user watching several science fiction movies in the evening on a tablet.\n",
    "Output: Personalized movie or TV show recommendations. For example, suggesting a new science fiction series that aligns with the user's preferences and viewing habits.\n",
    "1.3 Signature Recognition:\n",
    "Input(s): Images or scans of signatures, possibly from documents or contracts. For example, a scanned image of a signed contract.\n",
    "Output: Verification of the signature's authenticity. For example, confirming whether the signature matches an authorized person's signature on record.\n",
    "1.4 Medical Diagnosis:\n",
    "Input(s): Patient medical history, symptoms, laboratory test results, and possibly imaging data (X-rays, MRIs, etc.). For example, a patient complaining of chest pain with associated medical history and test results.\n",
    "Output: Diagnosis or recommendation for further tests/treatments. For example, output might be a diagnosis of a heart condition or a recommendation for additional cardiac tests based on the input data."
   ]
  },
  {
   "cell_type": "markdown",
   "metadata": {
    "id": "l_I2f4C85yNF"
   },
   "source": [
    "\n",
    "2. For each of the following case studies, determine whether it is appropriate to utilise regression or classification machine learning algorithms. Justify your answers:\n",
    "* 2.1 Classifying emails as promotion or social based on their content and metadata. \n",
    "* 2.2 Forecasting the stock price of a company based on historical data and market trends.\n",
    "* 2.3 Sorting images of animals into different species based on their visual features.\n",
    "* 2.4 Predicting the likelihood of a patient having a particular disease based on medical history and diagnostic test results. "
   ]
  },
  {
   "cell_type": "markdown",
   "metadata": {
    "id": "WgMUsqQr6qFU"
   },
   "source": [
    "2. Answer here\n",
    "* 2.1 - Classification\n",
    "This is a binary classification problem where the goal is to categorise emails into two distinct classes (promotion or social).Classification algorithms are suitable for scenarios where the output is discrete or categorical, making them appropriate for tasks like email classification.\n",
    "\n",
    "* 2.2 - Regression\n",
    "This is a regression problem since the goal is to predict a continuous numerical value (stock price). Regression algorithms are suitable when the output is a range of continuous values, making them appropriate for tasks like stock price forecasting.\n",
    "* 2.3 - Classification\n",
    "This is a multi-class classification problem where the goal is to assign each image to one of several possible classes (animal species). Classification algorithms are suitable for scenarios where the output is discrete and belongs to multiple classes, making them appropriate for tasks like image classification.\n",
    "* 2.4 - Classification\n",
    "This is a binary or multi-class classification problem depending on the number of diseases. The goal is to categorize patients into classes (having the disease or not having the disease). Classification algorithms are appropriate for such tasks where the output is discrete and falls into distinct categories."
   ]
  },
  {
   "cell_type": "markdown",
   "metadata": {
    "id": "b6f8UETG64hH"
   },
   "source": [
    "3. For each of the following real-world problems, determine whether it is appropriate to utilise a supervised or unsupervised machine learning algorithm. Justify your answers:\n",
    "* 3.1 Detecting anomalies in a manufacturing process using sensor data without prior knowledge of specific anomaly patterns. \n",
    "* 3.2 Predicting customer lifetime value based on historical transaction data and customer demographics. \n",
    "* 3.3 Segmenting customer demographics based on their purchase history, browsing behaviour, and preferences. \n",
    "* 3.4 Analysing social media posts to categorise them into different themes. \n"
   ]
  },
  {
   "cell_type": "markdown",
   "metadata": {
    "id": "W6dTYBvd675O"
   },
   "source": [
    "3. Answer here\n",
    "* 3.1 - Unsupervised Learning\n",
    "Anomalies often appear without prior knowledge of their specific patterns. Unsupervised learning, especially anomaly detection techniques, can be used to identify patterns that deviate significantly from the norm without requiring labeled data.\n",
    "* 3.2 - Supervised Learning\n",
    "This is a regression problem where the goal is to predict a continuous value (customer lifetime value). Supervised learning is suitable when there is a labeled dataset, and the algorithm can learn the relationship between input features (transaction data and demographics) and the target variable (customer lifetime value).\n",
    "* 3.3 - Unsupervised Learning\n",
    "Customer segmentation involves grouping similar customers based on their behavior without predefined labels. Clustering algorithms, a type of unsupervised learning, can be used to identify patterns and group customers with similar characteristics.\n",
    "* 3.4 - Unsupervised Learning\n",
    "Social media posts can cover a wide range of topics without predefined categories. Unsupervised learning techniques, such as topic modeling or clustering, can help identify common themes or topics without the need for labeled training data."
   ]
  },
  {
   "cell_type": "markdown",
   "metadata": {
    "id": "bqsun96o64xe"
   },
   "source": [
    "4. \n",
    "For each of the following real-world problems, determine whether it is appropriate to utilise semi-supervised machine learning algorithms. Justify your answers:\n",
    "* 4.1 Predicting fraudulent financial transactions using a dataset where most transactions are labelled as fraudulent or legitimate.\n",
    "* 4.2 Analysing customer satisfaction surveys where only a small portion of the data is labelled with satisfaction ratings.\n",
    "*4.3 Identifying spam emails in a dataset where the majority of emails are labelled.\n",
    "* 4.4 Predicting the probability of default for credit card applicants based on their complete financial and credit-related information.\n"
   ]
  },
  {
   "cell_type": "markdown",
   "metadata": {
    "id": "aTWugZ6q68GF"
   },
   "source": [
    "4. Answer here\n",
    "* 4.1 - Appropriate to use Semi-Supervised Learning\n",
    "Semi-supervised learning can be useful in scenarios where a large portion of the data is unlabeled. In this case, the algorithm can leverage the labeled data (fraudulent and legitimate transactions) to train the model and then use the unlabeled data to improve its overall performance.\n",
    "* 4.2 - Appropriate to use Semi - Supervised Learning\n",
    " Since only a small portion of the data is labeled, semi-supervised learning allows the model to use both labeled and unlabeled data to identify patterns and make predictions about customer satisfaction. This can be particularly beneficial when labeled data is limited.\n",
    "* 4.3 - Not Appropriate\n",
    "In this case, there is a significant amount of labeled data available for training a spam detection model. Supervised learning would be the more direct and efficient approach, as it leverages the labeled data to predict whether an email is spam or not.\n",
    "* 4.4 - Appropriate\n",
    "This is a classic supervised learning problem where the goal is to predict a specific outcome (probability of default) based on labeled training data (applicants with known default outcomes). Using supervised learning allows the model to learn from the labeled examples and make predictions on new, unseen data."
   ]
  }
 ],
 "metadata": {
  "colab": {
   "provenance": []
  },
  "kernelspec": {
   "display_name": "Python 3 (ipykernel)",
   "language": "python",
   "name": "python3"
  },
  "language_info": {
   "codemirror_mode": {
    "name": "ipython",
    "version": 3
   },
   "file_extension": ".py",
   "mimetype": "text/x-python",
   "name": "python",
   "nbconvert_exporter": "python",
   "pygments_lexer": "ipython3",
   "version": "3.11.3"
  }
 },
 "nbformat": 4,
 "nbformat_minor": 1
}
